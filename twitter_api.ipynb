{
  "nbformat": 4,
  "nbformat_minor": 0,
  "metadata": {
    "colab": {
      "provenance": [],
      "authorship_tag": "ABX9TyOYvj4/ZrNxaZ1p2yS/yPfg"
    },
    "kernelspec": {
      "name": "python3",
      "display_name": "Python 3"
    },
    "language_info": {
      "name": "python"
    }
  },
  "cells": [
    {
      "cell_type": "code",
      "execution_count": null,
      "metadata": {
        "id": "BnnBQA7NAJA0"
      },
      "outputs": [],
      "source": [
        "!pip install requests"
      ]
    },
    {
      "cell_type": "code",
      "source": [
        "import requests\n",
        "\n",
        "bearer_token = \"AAAAAAAAAAAAAAAAAAAAAEm50QEAAAAAbN9UVLDbgzDZstjresN0XwWG5Qc%3D1UUOxTCeHQvPzk9ZID4OuFAjxouFQZqh1onlTcenm9W8bGezsi\"\n",
        "\n",
        "headers = {\n",
        "    \"Authorization\": f\"Bearer {bearer_token}\",\n",
        "}\n"
      ],
      "metadata": {
        "id": "vEc9-w2_Agv2"
      },
      "execution_count": null,
      "outputs": []
    },
    {
      "cell_type": "code",
      "source": [
        "search_url = \"https://api.twitter.com/2/tweets/search/recent\"\n",
        "\n",
        "query_params = {\n",
        "    'query': '#AI lang:en -is:retweet',\n",
        "    'max_results': '10',\n",
        "    'tweet.fields': 'created_at,public_metrics,text',\n",
        "}\n",
        "\n",
        "response = requests.get(search_url, headers=headers, params=query_params)\n",
        "tweets = response.json()\n",
        "\n",
        "for tweet in tweets.get(\"data\", []):\n",
        "    print(f\"{tweet['created_at']}: {tweet['text']}\")\n",
        "    print(f\"Metrics: {tweet['public_metrics']}\")\n",
        "    print(\"-\" * 50)\n"
      ],
      "metadata": {
        "id": "ya32qteZAg59"
      },
      "execution_count": null,
      "outputs": []
    }
  ]
}